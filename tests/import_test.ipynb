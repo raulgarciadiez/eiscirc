{
 "cells": [
  {
   "cell_type": "code",
   "execution_count": 1,
   "id": "5aee7639",
   "metadata": {},
   "outputs": [],
   "source": [
    "from eiscirc import ImpedanceModel\n",
    "import numpy as np\n",
    "import matplotlib.pyplot as plt"
   ]
  },
  {
   "cell_type": "code",
   "execution_count": 2,
   "id": "f5db4edb",
   "metadata": {},
   "outputs": [
    {
     "name": "stdout",
     "output_type": "stream",
     "text": [
      "0.8\n"
     ]
    }
   ],
   "source": [
    "# Test with letter-suffixed components\n",
    "model = ImpedanceModel(\"R0-CPEa-Rs\")\n",
    "\n",
    "# All these now work correctly:\n",
    "model.set_params(CPEa={'value': 1e-6, 'alpha': 0.8})  # Dictionary input\n",
    "print(model.params.CPEa.alpha)  # 0.8 (dot notation access)\n",
    "model.params.CPEa.alpha = 0.9   # Dot notation modification\n",
    "model.set_params(CPEa_alpha=0.7)  # Underscore notation\n",
    "\n",
    "# Verify bounds checking\n",
    "try:\n",
    "    model.params.CPEa.alpha = 1.5  # Raises ValueError\n",
    "except ValueError as e:\n",
    "    print(f\"Correctly caught: {e}\")"
   ]
  },
  {
   "cell_type": "code",
   "execution_count": 3,
   "id": "74fbdd68",
   "metadata": {},
   "outputs": [
    {
     "name": "stdout",
     "output_type": "stream",
     "text": [
      "0.8\n",
      "0.9\n",
      "0.7\n"
     ]
    }
   ],
   "source": [
    "# Test with letter-suffixed components\n",
    "model = ImpedanceModel(\"R0-CPEa-Rs\")\n",
    "model.set_params(CPEa={'value': 1e-6, 'alpha': 0.8})\n",
    "\n",
    "# Dot notation access\n",
    "print(model.params.CPEa.alpha)  # 0.8\n",
    "model.params.CPEa.alpha = 0.9  # Works!\n",
    "print(model.params.CPEa.alpha)  # 0.9\n",
    "\n",
    "# Verify bounds checking\n",
    "try:\n",
    "    model.params.CPEa.alpha = 1.5  # Should raise ValueError\n",
    "except ValueError as e:\n",
    "    print(f\"Correctly caught: {e}\")\n",
    "\n",
    "# Numbered components still work\n",
    "model2 = ImpedanceModel(\"R0-CPE1\")\n",
    "model2.params.CPE1.alpha = 0.7\n",
    "print(model2.params.CPE1.alpha)  # 0.7"
   ]
  },
  {
   "cell_type": "code",
   "execution_count": 4,
   "id": "1ef51d4c",
   "metadata": {},
   "outputs": [
    {
     "name": "stdout",
     "output_type": "stream",
     "text": [
      "(0.001, 1.0)\n",
      "(0.001, 1.0)\n",
      "(0.001, 1000000.0)\n",
      "(1e-12, 0.01)\n",
      "(0.21, 0.99)\n",
      "(0.001, 1.0)\n"
     ]
    }
   ],
   "source": [
    "# Test with letter-labeled components\n",
    "model = ImpedanceModel(\"R0-Rs//CPEa-R2//C2\")\n",
    "print(model.bounds[\"CPEa_alpha\"])\n",
    "print(model.get_bounds(\"CPEa_alpha\"))  # (0.001, 1.0)\n",
    "print(model.get_bounds(\"Rs\"))  # (1e-3, 1e6)\n",
    "print(model.get_bounds(\"C2\"))  # (1e-12, 1e-2)\n",
    "\n",
    "# Set and get custom bounds\n",
    "#model.set_bounds(CPEa_alpha=(0.01, 0.99))\n",
    "model.bounds[\"CPEa_alpha\"]=(0.21, 0.99)\n",
    "print(model.get_bounds(\"CPEa_alpha\"))  # (0.01, 0.99)\n",
    "\n",
    "# Still works with numbered components\n",
    "model2 = ImpedanceModel(\"R1-CPE1\")\n",
    "print(model2.get_bounds(\"CPE1_alpha\"))  # (0.001, 1.0)"
   ]
  },
  {
   "cell_type": "code",
   "execution_count": 5,
   "id": "037c380c",
   "metadata": {},
   "outputs": [
    {
     "data": {
      "text/plain": [
       "0.8"
      ]
     },
     "execution_count": 5,
     "metadata": {},
     "output_type": "execute_result"
    }
   ],
   "source": [
    "model = ImpedanceModel(\"R0-Rs//CPEa-R2//C2\")\n",
    "#model.set_params(CPE1={'value': 1e-6, 'alpha': 0.7})\n",
    "#model.params.CPE1.alpha = 0.998\n",
    "model.params.CPEa.alpha"
   ]
  },
  {
   "cell_type": "code",
   "execution_count": 6,
   "id": "f0661fa0",
   "metadata": {},
   "outputs": [
    {
     "name": "stdout",
     "output_type": "stream",
     "text": [
      "(1e-12, 0.01)\n",
      "Correctly caught: CPE1_alpha must be in [0.001, 1.0], got 1.5\n",
      "(0.001, 1.0)\n",
      "(0.001, 1.0)\n",
      "(0.001, 1.0)\n"
     ]
    }
   ],
   "source": [
    "model = ImpedanceModel(\"R1-CPE1\")\n",
    "print (model.get_bounds(\"CPE1_value\"))\n",
    "\n",
    "# Set custom bounds\n",
    "#model.set_bounds(CPE1_alpha=(0.0, 1.0))\n",
    "\n",
    "# Verify bounds enforcement\n",
    "try:\n",
    "    model.params.CPE1.alpha = 1.5\n",
    "    #model.params.CPE1_alpha = 1.5  # Should raise ValueError\n",
    "    #model.set_params (CPE1_alpha = 1.5)  # Should raise ValueError\n",
    "except ValueError as e:\n",
    "    print(f\"Correctly caught: {e}\")\n",
    "\n",
    "# Check bounds access\n",
    "print(model.get_bounds(\"CPE1_alpha\"))  # (0.0, 1.0)\n",
    "print(model.bounds[\"CPE1_alpha\"])  # (0.0, 1.0)\n",
    "\n",
    "# Global defaults remain unchanged\n",
    "model2 = ImpedanceModel(\"R1-CPE1\")\n",
    "print(model2.get_bounds(\"CPE1_alpha\"))  # Original bounds from PARAMETER_CONFIG"
   ]
  },
  {
   "cell_type": "code",
   "execution_count": 7,
   "id": "6e429792",
   "metadata": {},
   "outputs": [
    {
     "data": {
      "image/png": "[encoded data removed]",
      "text/plain": [
       "<Figure size 400x300 with 1 Axes>"
      ]
     },
     "metadata": {},
     "output_type": "display_data"
    },
    {
     "data": {
      "text/plain": [
       "['H1', 'Rs', 'C1s', 'C4', 'W3', 'Rsec', 'CPEo']"
      ]
     },
     "execution_count": 7,
     "metadata": {},
     "output_type": "execute_result"
    }
   ],
   "source": [
    "model = ImpedanceModel(\"H1-Rs//C1s-C4//(W3-Rsec)-CPEo\")\n",
    "fig = model.draw_circuit(size=(4, 3))\n",
    "plt.show()\n",
    "model.param_names\n",
    "#model.Z_imag"
   ]
  },
  {
   "cell_type": "code",
   "execution_count": 8,
   "id": "4677fa15",
   "metadata": {},
   "outputs": [
    {
     "ename": "ValueError",
     "evalue": "Impedance calculation failed: 'int' object is not subscriptable",
     "output_type": "error",
     "traceback": [
      "\u001b[1;31m---------------------------------------------------------------------------\u001b[0m",
      "\u001b[1;31mTypeError\u001b[0m                                 Traceback (most recent call last)",
      "File \u001b[1;32m~\\My Projects\\github\\eiscirc\\eiscirc\\circuit_parser.py:842\u001b[0m, in \u001b[0;36mImpedanceModel.impedance\u001b[1;34m(self, omega, *args, **kwargs)\u001b[0m\n\u001b[0;32m    841\u001b[0m \u001b[38;5;28;01mtry\u001b[39;00m:\n\u001b[1;32m--> 842\u001b[0m     Z_total \u001b[38;5;241m=\u001b[39m \u001b[38;5;28;43mself\u001b[39;49m\u001b[38;5;241;43m.\u001b[39;49m\u001b[43m_impedance_func\u001b[49m\u001b[43m(\u001b[49m\u001b[43momega\u001b[49m\u001b[43m,\u001b[49m\u001b[43m \u001b[49m\u001b[38;5;241;43m*\u001b[39;49m\u001b[38;5;241;43m*\u001b[39;49m\u001b[43mcalc_params\u001b[49m\u001b[43m)\u001b[49m\n\u001b[0;32m    844\u001b[0m     \u001b[38;5;66;03m# Update impedance attributes\u001b[39;00m\n",
      "File \u001b[1;32m~\\My Projects\\github\\eiscirc\\eiscirc\\circuit_parser.py:785\u001b[0m, in \u001b[0;36mImpedanceModel._create_compiled_impedance.<locals>.series_func\u001b[1;34m(omega, **params)\u001b[0m\n\u001b[0;32m    784\u001b[0m \u001b[38;5;28;01mfor\u001b[39;00m func \u001b[38;5;129;01min\u001b[39;00m sub_functions:\n\u001b[1;32m--> 785\u001b[0m     Z_total \u001b[38;5;241m+\u001b[39m\u001b[38;5;241m=\u001b[39m \u001b[43mfunc\u001b[49m\u001b[43m(\u001b[49m\u001b[43momega\u001b[49m\u001b[43m,\u001b[49m\u001b[43m \u001b[49m\u001b[38;5;241;43m*\u001b[39;49m\u001b[38;5;241;43m*\u001b[39;49m\u001b[43mparams\u001b[49m\u001b[43m)\u001b[49m\n\u001b[0;32m    786\u001b[0m \u001b[38;5;28;01mreturn\u001b[39;00m Z_total\n",
      "File \u001b[1;32m~\\My Projects\\github\\eiscirc\\eiscirc\\circuit_parser.py:764\u001b[0m, in \u001b[0;36mImpedanceModel._create_compiled_impedance.<locals>.<lambda>\u001b[1;34m(omega, **params)\u001b[0m\n\u001b[0;32m    763\u001b[0m \u001b[38;5;28;01melif\u001b[39;00m structure\u001b[38;5;241m.\u001b[39mstartswith(\u001b[38;5;124m\"\u001b[39m\u001b[38;5;124mWs\u001b[39m\u001b[38;5;124m\"\u001b[39m):  \u001b[38;5;66;03m# Finite Warburg (Resistance and Tau (time))\u001b[39;00m\n\u001b[1;32m--> 764\u001b[0m     \u001b[38;5;28;01mreturn\u001b[39;00m \u001b[38;5;28;01mlambda\u001b[39;00m omega, \u001b[38;5;241m*\u001b[39m\u001b[38;5;241m*\u001b[39mparams: \u001b[43mparams\u001b[49m\u001b[43m[\u001b[49m\u001b[43mstructure\u001b[49m\u001b[43m]\u001b[49m\u001b[43m[\u001b[49m\u001b[38;5;241;43m0\u001b[39;49m\u001b[43m]\u001b[49m \u001b[38;5;241m*\u001b[39m np\u001b[38;5;241m.\u001b[39mtanh( params[structure][\u001b[38;5;241m1\u001b[39m] \u001b[38;5;241m*\u001b[39m np\u001b[38;5;241m.\u001b[39msqrt(\u001b[38;5;241m1\u001b[39mj \u001b[38;5;241m*\u001b[39m omega) ) \u001b[38;5;241m/\u001b[39m np\u001b[38;5;241m.\u001b[39msqrt(\u001b[38;5;241m1\u001b[39mj \u001b[38;5;241m*\u001b[39m omega)\n\u001b[0;32m    765\u001b[0m \u001b[38;5;28;01melif\u001b[39;00m structure\u001b[38;5;241m.\u001b[39mstartswith(\u001b[38;5;124m\"\u001b[39m\u001b[38;5;124mWo\u001b[39m\u001b[38;5;124m\"\u001b[39m):  \u001b[38;5;66;03m# Shorted Warburg\u001b[39;00m\n",
      "\u001b[1;31mTypeError\u001b[0m: 'int' object is not subscriptable",
      "\nDuring handling of the above exception, another exception occurred:\n",
      "\u001b[1;31mValueError\u001b[0m                                Traceback (most recent call last)",
      "Cell \u001b[1;32mIn[8], line 9\u001b[0m\n\u001b[0;32m      6\u001b[0m \u001b[38;5;66;03m# Add circuit as inset\u001b[39;00m\n\u001b[0;32m      7\u001b[0m model\u001b[38;5;241m.\u001b[39mdraw_circuit(ax\u001b[38;5;241m=\u001b[39max,position\u001b[38;5;241m=\u001b[39m[\u001b[38;5;241m3\u001b[39m, \u001b[38;5;241m3\u001b[39m], loc \u001b[38;5;241m=\u001b[39m \u001b[38;5;241m2\u001b[39m)\n\u001b[1;32m----> 9\u001b[0m Z \u001b[38;5;241m=\u001b[39m \u001b[43mmodel\u001b[49m\u001b[38;5;241;43m.\u001b[39;49m\u001b[43mimpedance\u001b[49m\u001b[43m(\u001b[49m\u001b[43momega\u001b[49m\u001b[43m)\u001b[49m\n\u001b[0;32m     10\u001b[0m ax\u001b[38;5;241m.\u001b[39mplot(model\u001b[38;5;241m.\u001b[39mZ_real, \u001b[38;5;241m-\u001b[39mmodel\u001b[38;5;241m.\u001b[39mZ_imag)\n\u001b[0;32m     12\u001b[0m model\u001b[38;5;241m.\u001b[39mparams\u001b[38;5;241m.\u001b[39mWs1\u001b[38;5;241m.\u001b[39mtau \u001b[38;5;241m=\u001b[39m \u001b[38;5;241m0.7\u001b[39m\n",
      "File \u001b[1;32m~\\My Projects\\github\\eiscirc\\eiscirc\\circuit_parser.py:857\u001b[0m, in \u001b[0;36mImpedanceModel.impedance\u001b[1;34m(self, omega, *args, **kwargs)\u001b[0m\n\u001b[0;32m    854\u001b[0m \u001b[38;5;28;01mexcept\u001b[39;00m \u001b[38;5;167;01mException\u001b[39;00m \u001b[38;5;28;01mas\u001b[39;00m e:\n\u001b[0;32m    855\u001b[0m     \u001b[38;5;66;03m# Clear results on failure\u001b[39;00m\n\u001b[0;32m    856\u001b[0m     \u001b[38;5;28mself\u001b[39m\u001b[38;5;241m.\u001b[39mZ_real \u001b[38;5;241m=\u001b[39m \u001b[38;5;28mself\u001b[39m\u001b[38;5;241m.\u001b[39mZ_imag \u001b[38;5;241m=\u001b[39m \u001b[38;5;28;01mNone\u001b[39;00m\n\u001b[1;32m--> 857\u001b[0m     \u001b[38;5;28;01mraise\u001b[39;00m \u001b[38;5;167;01mValueError\u001b[39;00m(\u001b[38;5;124mf\u001b[39m\u001b[38;5;124m\"\u001b[39m\u001b[38;5;124mImpedance calculation failed: \u001b[39m\u001b[38;5;132;01m{\u001b[39;00m\u001b[38;5;28mstr\u001b[39m(e)\u001b[38;5;132;01m}\u001b[39;00m\u001b[38;5;124m\"\u001b[39m)\n",
      "\u001b[1;31mValueError\u001b[0m: Impedance calculation failed: 'int' object is not subscriptable"
     ]
    },
    {
     "data": {
      "image/png": "[encoded data removed]",
      "text/plain": [
       "<Figure size 700x300 with 2 Axes>"
      ]
     },
     "metadata": {},
     "output_type": "display_data"
    }
   ],
   "source": [
    "model = ImpedanceModel(\"Rs-H1-Ws1\")\n",
    "model.set_params(Rs=100)\n",
    "omega = 2 * np.pi * np.logspace(-3, 8, 1000)  # 10 Hz to 1 MHz in rad/s\n",
    "\n",
    "fig, ax = plt.subplots(figsize=(7, 3))\n",
    "# Add circuit as inset\n",
    "model.draw_circuit(ax=ax,position=[3, 3], loc = 2)\n",
    "\n",
    "Z = model.impedance(omega)\n",
    "ax.plot(model.Z_real, -model.Z_imag)\n",
    "\n",
    "model.params.Ws1.tau = 0.7\n",
    "#model.set_params(Ws1={\"tau\":0.7})\n",
    "#model.set_params(Ws1=(100.,0.5))\n",
    "#model.set_params(Ws1_tau=0.7)\n",
    "\n",
    "#model.set_params(**{'Ws1.tau': 0.7}) #### DOES NOT WORK\n",
    "#model.set_params(Ws1.tau=0.7) #### DOES NOT WORK\n",
    "\n",
    "Z = model.impedance(omega)\n",
    "ax.plot(model.Z_real, -model.Z_imag)\n"
   ]
  },
  {
   "cell_type": "code",
   "execution_count": 9,
   "id": "82fcdd64",
   "metadata": {},
   "outputs": [
    {
     "name": "stdout",
     "output_type": "stream",
     "text": [
      "(0.001, 1.0)\n",
      "(0.001, 1.0)\n"
     ]
    },
    {
     "ename": "ValueError",
     "evalue": "Parameter CPEa requires dictionary input",
     "output_type": "error",
     "traceback": [
      "\u001b[1;31m---------------------------------------------------------------------------\u001b[0m",
      "\u001b[1;31mValueError\u001b[0m                                Traceback (most recent call last)",
      "Cell \u001b[1;32mIn[9], line 7\u001b[0m\n\u001b[0;32m      4\u001b[0m omega \u001b[38;5;241m=\u001b[39m \u001b[38;5;241m2\u001b[39m \u001b[38;5;241m*\u001b[39m np\u001b[38;5;241m.\u001b[39mpi \u001b[38;5;241m*\u001b[39m np\u001b[38;5;241m.\u001b[39mlogspace(\u001b[38;5;241m-\u001b[39m\u001b[38;5;241m3\u001b[39m, \u001b[38;5;241m8\u001b[39m, \u001b[38;5;241m1000\u001b[39m)  \u001b[38;5;66;03m# 10 Hz to 1 MHz in rad/s\u001b[39;00m\n\u001b[0;32m      6\u001b[0m \u001b[38;5;66;03m### Keyword input\u001b[39;00m\n\u001b[1;32m----> 7\u001b[0m Z \u001b[38;5;241m=\u001b[39m \u001b[43mmodel\u001b[49m\u001b[38;5;241;43m.\u001b[39;49m\u001b[43mimpedance\u001b[49m\u001b[43m(\u001b[49m\u001b[43momega\u001b[49m\u001b[43m,\u001b[49m\u001b[43m \u001b[49m\u001b[43mR0\u001b[49m\u001b[38;5;241;43m=\u001b[39;49m\u001b[38;5;241;43m1e1\u001b[39;49m\u001b[43m,\u001b[49m\u001b[43m \u001b[49m\u001b[43mR1\u001b[49m\u001b[38;5;241;43m=\u001b[39;49m\u001b[38;5;241;43m2e2\u001b[39;49m\u001b[43m,\u001b[49m\u001b[43m \u001b[49m\u001b[43mCPEa\u001b[49m\u001b[38;5;241;43m=\u001b[39;49m\u001b[43m(\u001b[49m\u001b[38;5;241;43m1e-6\u001b[39;49m\u001b[43m,\u001b[49m\u001b[38;5;241;43m0.8\u001b[39;49m\u001b[43m)\u001b[49m\u001b[43m,\u001b[49m\u001b[43m \u001b[49m\u001b[43mR2\u001b[49m\u001b[38;5;241;43m=\u001b[39;49m\u001b[38;5;241;43m1e2\u001b[39;49m\u001b[43m,\u001b[49m\u001b[43m \u001b[49m\u001b[43mC2\u001b[49m\u001b[38;5;241;43m=\u001b[39;49m\u001b[38;5;241;43m1e-7\u001b[39;49m\u001b[43m)\u001b[49m\n\u001b[0;32m      9\u001b[0m R0\u001b[38;5;241m=\u001b[39m\u001b[38;5;241m1e1\u001b[39m; R1\u001b[38;5;241m=\u001b[39m\u001b[38;5;241m2e2\u001b[39m; CPEa\u001b[38;5;241m=\u001b[39m(\u001b[38;5;241m1e-6\u001b[39m,\u001b[38;5;241m0.8\u001b[39m); R2\u001b[38;5;241m=\u001b[39m\u001b[38;5;241m1e2\u001b[39m; C2\u001b[38;5;241m=\u001b[39m\u001b[38;5;241m1e-7\u001b[39m\n\u001b[0;32m     10\u001b[0m \u001b[38;5;66;03m#### Array input\u001b[39;00m\n",
      "File \u001b[1;32m~\\My Projects\\github\\eiscirc\\eiscirc\\circuit_parser.py:818\u001b[0m, in \u001b[0;36mImpedanceModel.impedance\u001b[1;34m(self, omega, *args, **kwargs)\u001b[0m\n\u001b[0;32m    816\u001b[0m         \u001b[38;5;28mself\u001b[39m\u001b[38;5;241m.\u001b[39mset_params(\u001b[38;5;241m*\u001b[39m\u001b[38;5;241m*\u001b[39margs[\u001b[38;5;241m0\u001b[39m])\n\u001b[0;32m    817\u001b[0m     \u001b[38;5;28;01melse\u001b[39;00m:\n\u001b[1;32m--> 818\u001b[0m         \u001b[38;5;28;43mself\u001b[39;49m\u001b[38;5;241;43m.\u001b[39;49m\u001b[43mset_params\u001b[49m\u001b[43m(\u001b[49m\u001b[38;5;241;43m*\u001b[39;49m\u001b[38;5;241;43m*\u001b[39;49m\u001b[43mkwargs\u001b[49m\u001b[43m)\u001b[49m\n\u001b[0;32m    820\u001b[0m \u001b[38;5;66;03m# THEN PREPARE PARAMETERS FOR CALCULATION (using now-updated self._params)\u001b[39;00m\n\u001b[0;32m    821\u001b[0m calc_params \u001b[38;5;241m=\u001b[39m {}\n",
      "File \u001b[1;32m~\\My Projects\\github\\eiscirc\\eiscirc\\circuit_parser.py:111\u001b[0m, in \u001b[0;36mImpedanceModel.set_params\u001b[1;34m(self, **kwargs)\u001b[0m\n\u001b[0;32m    109\u001b[0m             param[subkey] \u001b[38;5;241m=\u001b[39m subvalue\n\u001b[0;32m    110\u001b[0m     \u001b[38;5;28;01melse\u001b[39;00m:\n\u001b[1;32m--> 111\u001b[0m         \u001b[38;5;28;01mraise\u001b[39;00m \u001b[38;5;167;01mValueError\u001b[39;00m(\u001b[38;5;124mf\u001b[39m\u001b[38;5;124m\"\u001b[39m\u001b[38;5;124mParameter \u001b[39m\u001b[38;5;132;01m{\u001b[39;00mkey\u001b[38;5;132;01m}\u001b[39;00m\u001b[38;5;124m requires dictionary input\u001b[39m\u001b[38;5;124m\"\u001b[39m)\n\u001b[0;32m    112\u001b[0m \u001b[38;5;66;03m# Simple parameter case\u001b[39;00m\n\u001b[0;32m    113\u001b[0m \u001b[38;5;28;01melse\u001b[39;00m:\n\u001b[0;32m    114\u001b[0m     \u001b[38;5;28mself\u001b[39m\u001b[38;5;241m.\u001b[39m_check_bounds(key, value)\n",
      "\u001b[1;31mValueError\u001b[0m: Parameter CPEa requires dictionary input"
     ]
    }
   ],
   "source": [
    "model = ImpedanceModel(\"R0-R1//CPEa-R2//C2\")\n",
    "print(model.get_bounds(\"CPEa_alpha\"))  # (0.0, 1.0)\n",
    "print(model.bounds[\"CPEa_alpha\"]) \n",
    "omega = 2 * np.pi * np.logspace(-3, 8, 1000)  # 10 Hz to 1 MHz in rad/s\n",
    "\n",
    "### Keyword input\n",
    "Z = model.impedance(omega, R0=1e1, R1=2e2, CPEa=(1e-6,0.8), R2=1e2, C2=1e-7)\n",
    "\n",
    "R0=1e1; R1=2e2; CPEa=(1e-6,0.8); R2=1e2; C2=1e-7\n",
    "#### Array input\n",
    "Z = model.impedance(omega, [R0, R1, CPEa, R2, C2])\n",
    "\n",
    "#### Dictionary input\n",
    "params = {'R0':R0, 'R1':R1, 'C2':C2, 'CPEa':CPEa, \"R2\":R2}\n",
    "Z = model.impedance(omega, params)\n",
    "\n",
    "fig, ax = plt.subplots(figsize=(6, 4))\n",
    "# Add circuit as inset\n",
    "model.draw_circuit(ax=ax,position=[3, 3], loc = 2)\n",
    "\n",
    "ax.plot(model.Z_real, -model.Z_imag)\n",
    "print(model.bounds[\"CPEa_alpha\"]) \n",
    "model.set_bounds(CPEa_alpha=(0.0, 1.))  # Sub-parameter\n",
    "\n",
    "model.set_params(CPEa_alpha=1.4)\n",
    "\n",
    "for x in np.arange(0.,1.5,0.2):\n",
    "    #model.params.CPEa_alpha=x\n",
    "    model.set_params(CPEa_alpha=x)\n",
    "    #model.set_params(CPEa={\"alpha\":x})\n",
    "    #model.set_params(**{\"CPEa_alpha\":x})\n",
    "\n",
    "    Z = model.impedance(omega)\n",
    "    ax.plot(model.Z_real, -model.Z_imag)\n",
    "\n",
    "ax.set_xlabel('Z\\' (Ohm)')\n",
    "ax.set_ylabel('-Z\\'\\' (Ohm)')\n",
    "ax.set_title('Nyquist Plot with %s'%(model._params))\n",
    "plt.tight_layout()\n",
    "plt.show()"
   ]
  },
  {
   "cell_type": "code",
   "execution_count": 22,
   "id": "af902e30",
   "metadata": {},
   "outputs": [
    {
     "data": {
      "text/plain": [
       "[<matplotlib.lines.Line2D at 0x1d56bcb69f0>]"
      ]
     },
     "execution_count": 22,
     "metadata": {},
     "output_type": "execute_result"
    },
    {
     "data": {
      "image/png": "[encoded data removed]",
      "text/plain": [
       "<Figure size 640x480 with 1 Axes>"
      ]
     },
     "metadata": {},
     "output_type": "display_data"
    }
   ],
   "source": [
    "plt.loglog(omega, model.Z_real, 'b-', linewidth=2)"
   ]
  },
  {
   "cell_type": "code",
   "execution_count": null,
   "id": "b8bca26c",
   "metadata": {},
   "outputs": [],
   "source": []
  }
 ],
 "metadata": {
  "kernelspec": {
   "display_name": "Python 3",
   "language": "python",
   "name": "python3"
  },
  "language_info": {
   "codemirror_mode": {
    "name": "ipython",
    "version": 3
   },
   "file_extension": ".py",
   "mimetype": "text/x-python",
   "name": "python",
   "nbconvert_exporter": "python",
   "pygments_lexer": "ipython3",
   "version": "3.12.7"
  }
 },
 "nbformat": 4,
 "nbformat_minor": 5
}
