{
 "cells": [
  {
   "cell_type": "code",
   "execution_count": 1,
   "id": "5aee7639",
   "metadata": {},
   "outputs": [],
   "source": [
    "from eiscirc import ImpedanceModel"
   ]
  },
  {
   "cell_type": "code",
   "execution_count": 12,
   "id": "82fcdd64",
   "metadata": {},
   "outputs": [],
   "source": [
    "obj = ImpedanceModel(\"R-C-(R1//C1)\")"
   ]
  },
  {
   "cell_type": "code",
   "execution_count": 13,
   "id": "539c4195",
   "metadata": {},
   "outputs": [
    {
     "data": {
      "text/plain": [
       "'R-C-(R1//C1)'"
      ]
     },
     "execution_count": 13,
     "metadata": {},
     "output_type": "execute_result"
    }
   ],
   "source": [
    "obj.circuit_structure"
   ]
  },
  {
   "cell_type": "code",
   "execution_count": null,
   "id": "5d1bd614",
   "metadata": {},
   "outputs": [],
   "source": []
  }
 ],
 "metadata": {
  "kernelspec": {
   "display_name": "Python 3",
   "language": "python",
   "name": "python3"
  },
  "language_info": {
   "codemirror_mode": {
    "name": "ipython",
    "version": 3
   },
   "file_extension": ".py",
   "mimetype": "text/x-python",
   "name": "python",
   "nbconvert_exporter": "python",
   "pygments_lexer": "ipython3",
   "version": "3.12.7"
  }
 },
 "nbformat": 4,
 "nbformat_minor": 5
}
